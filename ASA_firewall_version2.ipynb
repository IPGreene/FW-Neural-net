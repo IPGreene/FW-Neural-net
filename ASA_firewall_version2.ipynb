{
  "cells": [
    {
      "metadata": {
        "trusted": true
      },
      "cell_type": "code",
      "source": "from pyspark.sql import SparkSession\nspark = SparkSession.builder.getOrCreate()",
      "execution_count": 1,
      "outputs": []
    },
    {
      "metadata": {
        "trusted": true
      },
      "cell_type": "code",
      "source": "from pyspark import SparkFiles\nurl=\"https://raw.githubusercontent.com/IPGreene/FW-Neural-net/master/ASA_log.csv\"\nspark.sparkContext.addFile(url)\ndata = spark.read.csv(SparkFiles.get(\"ASA_log.csv\"), header=True)\n",
      "execution_count": 2,
      "outputs": []
    },
    {
      "metadata": {
        "trusted": true
      },
      "cell_type": "code",
      "source": "from pyspark.ml import Pipeline\nfrom pyspark.ml.feature import OneHotEncoder, StringIndexer, VectorAssembler, StandardScaler, OneHotEncoderEstimator\nfrom pyspark.sql.functions import udf\nfrom pyspark.sql.types import *\nfrom pyspark.sql.functions import rand\nfrom sklearn.model_selection import train_test_split\nimport pandas as pd\nimport numpy as np",
      "execution_count": 3,
      "outputs": []
    },
    {
      "metadata": {
        "trusted": true
      },
      "cell_type": "code",
      "source": "data.createOrReplaceTempView(\"firewall\")\ndata = spark.sql('SELECT * FROM firewall')\ndata = data.withColumn('sourcePort', data['sourcePort'].cast(IntegerType()))\ndata = data.withColumn('destinationPort', data['destinationPort'].cast(IntegerType()))\ndata = data.withColumn('deviceId', data['deviceId'].cast(IntegerType()))\ndata = data.withColumn('event_category', data['event_category'].cast(IntegerType()))\ndata = data.withColumn('relevance', data['relevance'].cast(IntegerType()))\ndata = data.withColumn('credibility', data['credibility'].cast(IntegerType()))\ndata = data.withColumn('severity', data['severity'].cast(IntegerType()))\ndata = data.withColumn('magnitude', data['magnitude'].cast(IntegerType()))\n#data = data.withColumn('eventCount', data['eventCount'].cast(IntegerType()))\ndata = data.drop('Event_DateTime', 'categoryDescription', 'eventDescription', 'eventCount')\ndata = data.fillna('Unknown')\ndata.show()",
      "execution_count": 4,
      "outputs": [
        {
          "output_type": "stream",
          "text": "+----------+---------------+------------+-------------+--------+--------------+---------+-----------+--------+---------+\n|sourcePort|destinationPort|protocolName|        IPgeo|deviceId|event_category|relevance|credibility|severity|magnitude|\n+----------+---------------+------------+-------------+--------+--------------+---------+-----------+--------+---------+\n|     52217|           2000|      tcp_ip|      Unknown|   31410|          5010|        8|         10|       9|        9|\n|     51405|             80|      tcp_ip|      Unknown|   31410|          7024|        8|         10|       1|        6|\n|     36002|            445|      tcp_ip|      Unknown|   31410|          7024|        8|         10|       1|        6|\n|     35074|            445|      tcp_ip|      Unknown|   31410|          7024|        8|         10|       1|        6|\n|     55631|            443|      tcp_ip|United States|   31410|          4002|       10|         10|       0|        6|\n|     55991|            443|      tcp_ip|United States|   31410|          4002|       10|         10|       0|        6|\n|     49792|             80|      tcp_ip|United States|   31410|          4002|       10|         10|       0|        6|\n|     64121|            443|      tcp_ip|United States|   31410|          4002|       10|         10|       0|        6|\n|     51662|            443|      tcp_ip|United States|   31410|          4002|       10|         10|       0|        6|\n|     50545|            443|      tcp_ip|United States|   31410|          4002|       10|         10|       0|        6|\n|     65255|             80|      tcp_ip|United States|     507|          4002|       10|         10|       0|        6|\n|     65025|            443|      tcp_ip|United States|   31410|          4002|       10|         10|       0|        6|\n|     64920|            443|      tcp_ip|United States|     507|          4002|       10|         10|       0|        6|\n|     64680|            443|      tcp_ip|United States|   31410|          4002|       10|         10|       0|        6|\n|     64674|             80|      tcp_ip|United States|   31410|          4002|       10|         10|       0|        6|\n|     64672|            443|      tcp_ip|United States|   31410|          4002|       10|         10|       0|        6|\n|     64670|             80|      tcp_ip|United States|   31410|          4002|       10|         10|       0|        6|\n|     64668|            443|      tcp_ip|United States|   31410|          4002|       10|         10|       0|        6|\n|     64576|            443|      tcp_ip|United States|   31410|          4002|       10|         10|       0|        6|\n|     64533|            443|      tcp_ip|United States|   31410|          4002|       10|         10|       0|        6|\n+----------+---------------+------------+-------------+--------+--------------+---------+-----------+--------+---------+\nonly showing top 20 rows\n\n",
          "name": "stdout"
        }
      ]
    },
    {
      "metadata": {
        "trusted": true
      },
      "cell_type": "code",
      "source": "str_col = ['protocolName', 'event_category', 'IPgeo']\nlabel = 'event_category'\nstages = []\nfor c in str_col:\n    indexer = StringIndexer(inputCol=c, outputCol=c+'_index')\n    stages += [indexer]\npipeline = Pipeline(stages=stages)\nmodel = pipeline.fit(data)\ntransformed = model.transform(data)\ntransformed = transformed.drop('protocolName', 'IPgeo', 'event_category')\ntransformed.show()\ndf = transformed.toPandas()\n",
      "execution_count": 20,
      "outputs": [
        {
          "output_type": "stream",
          "text": "+----------+---------------+--------+---------+-----------+--------+---------+------------------+--------------------+-----------+\n|sourcePort|destinationPort|deviceId|relevance|credibility|severity|magnitude|protocolName_index|event_category_index|IPgeo_index|\n+----------+---------------+--------+---------+-----------+--------+---------+------------------+--------------------+-----------+\n|     52217|           2000|   31410|        8|         10|       9|        9|               0.0|                 4.0|        0.0|\n|     51405|             80|   31410|        8|         10|       1|        6|               0.0|                 3.0|        0.0|\n|     36002|            445|   31410|        8|         10|       1|        6|               0.0|                 3.0|        0.0|\n|     35074|            445|   31410|        8|         10|       1|        6|               0.0|                 3.0|        0.0|\n|     55631|            443|   31410|       10|         10|       0|        6|               0.0|                 0.0|        1.0|\n|     55991|            443|   31410|       10|         10|       0|        6|               0.0|                 0.0|        1.0|\n|     49792|             80|   31410|       10|         10|       0|        6|               0.0|                 0.0|        1.0|\n|     64121|            443|   31410|       10|         10|       0|        6|               0.0|                 0.0|        1.0|\n|     51662|            443|   31410|       10|         10|       0|        6|               0.0|                 0.0|        1.0|\n|     50545|            443|   31410|       10|         10|       0|        6|               0.0|                 0.0|        1.0|\n|     65255|             80|     507|       10|         10|       0|        6|               0.0|                 0.0|        1.0|\n|     65025|            443|   31410|       10|         10|       0|        6|               0.0|                 0.0|        1.0|\n|     64920|            443|     507|       10|         10|       0|        6|               0.0|                 0.0|        1.0|\n|     64680|            443|   31410|       10|         10|       0|        6|               0.0|                 0.0|        1.0|\n|     64674|             80|   31410|       10|         10|       0|        6|               0.0|                 0.0|        1.0|\n|     64672|            443|   31410|       10|         10|       0|        6|               0.0|                 0.0|        1.0|\n|     64670|             80|   31410|       10|         10|       0|        6|               0.0|                 0.0|        1.0|\n|     64668|            443|   31410|       10|         10|       0|        6|               0.0|                 0.0|        1.0|\n|     64576|            443|   31410|       10|         10|       0|        6|               0.0|                 0.0|        1.0|\n|     64533|            443|   31410|       10|         10|       0|        6|               0.0|                 0.0|        1.0|\n+----------+---------------+--------+---------+-----------+--------+---------+------------------+--------------------+-----------+\nonly showing top 20 rows\n\n",
          "name": "stdout"
        }
      ]
    },
    {
      "metadata": {
        "trusted": true
      },
      "cell_type": "code",
      "source": "df_np = df.as_matrix()\n#transformed.select('event_category').distinct().show()",
      "execution_count": 22,
      "outputs": [
        {
          "output_type": "stream",
          "text": "/home/nbuser/anaconda3_501/lib/python3.6/site-packages/ipykernel/__main__.py:1: FutureWarning: Method .as_matrix will be removed in a future version. Use .values instead.\n  if __name__ == '__main__':\n",
          "name": "stderr"
        }
      ]
    },
    {
      "metadata": {
        "trusted": true
      },
      "cell_type": "code",
      "source": "#transformed.printSchema()",
      "execution_count": 53,
      "outputs": [
        {
          "output_type": "stream",
          "text": "root\n |-- sourcePort: integer (nullable = true)\n |-- destinationPort: integer (nullable = true)\n |-- deviceId: integer (nullable = true)\n |-- relevance: integer (nullable = true)\n |-- credibility: integer (nullable = true)\n |-- severity: integer (nullable = true)\n |-- magnitude: integer (nullable = true)\n |-- protocolName_index: double (nullable = false)\n |-- event_category_index: double (nullable = false)\n |-- IPgeo_index: double (nullable = false)\n |-- encoded: vector (nullable = true)\n\n",
          "name": "stdout"
        }
      ]
    },
    {
      "metadata": {
        "trusted": true
      },
      "cell_type": "code",
      "source": "train, test = transformed.randomSplit([0.70, 0.30], seed=1234)\nx_train = train.drop('event_category_index')\ny_train = train.select('event_category_index')\nx_test = test.drop('event_category_index')\ny_test = test.select('event_category_index')\n#x_train.limit(5).toPandas()\n#y_train.limit(5).toPandas()\n#x_test.limit(5).toPandas()\n#y_test.limit(5).toPandas()",
      "execution_count": 24,
      "outputs": []
    },
    {
      "metadata": {
        "trusted": true
      },
      "cell_type": "code",
      "source": "from keras.utils import to_categorical",
      "execution_count": 28,
      "outputs": []
    },
    {
      "metadata": {
        "trusted": true
      },
      "cell_type": "code",
      "source": "x_train_pd = x_train.toPandas()\ny_train_pd = y_train.toPandas()\nx_test_pd = x_test.toPandas()\ny_test_pd = y_test.toPandas()\ny_train_np = y_train_pd.as_matrix()\ny_test_np = y_test_pd.as_matrix()\nx_train_np = x_train_pd.as_matrix()\nx_test_np = x_test_pd.as_matrix()\n",
      "execution_count": 27,
      "outputs": [
        {
          "output_type": "stream",
          "text": "[[0.]\n [0.]\n [0.]\n ...\n [0.]\n [0.]\n [0.]]\n",
          "name": "stdout"
        },
        {
          "output_type": "stream",
          "text": "/home/nbuser/anaconda3_501/lib/python3.6/site-packages/ipykernel/__main__.py:5: FutureWarning: Method .as_matrix will be removed in a future version. Use .values instead.\n/home/nbuser/anaconda3_501/lib/python3.6/site-packages/ipykernel/__main__.py:6: FutureWarning: Method .as_matrix will be removed in a future version. Use .values instead.\n/home/nbuser/anaconda3_501/lib/python3.6/site-packages/ipykernel/__main__.py:7: FutureWarning: Method .as_matrix will be removed in a future version. Use .values instead.\n/home/nbuser/anaconda3_501/lib/python3.6/site-packages/ipykernel/__main__.py:8: FutureWarning: Method .as_matrix will be removed in a future version. Use .values instead.\n",
          "name": "stderr"
        }
      ]
    },
    {
      "metadata": {
        "trusted": true
      },
      "cell_type": "code",
      "source": "y_train_2 = to_categorical(y_train_np)\ny_test_2 = to_categorical(y_test_np)\ny_train_2[0:5]",
      "execution_count": 30,
      "outputs": [
        {
          "output_type": "execute_result",
          "execution_count": 30,
          "data": {
            "text/plain": "array([[1., 0., 0., 0., 0.],\n       [1., 0., 0., 0., 0.],\n       [1., 0., 0., 0., 0.],\n       [0., 1., 0., 0., 0.],\n       [1., 0., 0., 0., 0.]], dtype=float32)"
          },
          "metadata": {}
        }
      ]
    },
    {
      "metadata": {
        "trusted": true
      },
      "cell_type": "code",
      "source": "from keras.models import Sequential\nfrom keras.layers import Dense\nfrom keras.callbacks import EarlyStopping\n#create model\nmodel = Sequential()\n\n#get number of columns in training data\nn_cols = x_train_pd.shape[1]\nprint(n_cols)\n#add model layers\nmodel.add(Dense(250, activation='relu', input_shape=(n_cols,)))\nmodel.add(Dense(250, activation='relu'))\nmodel.add(Dense(250, activation='relu'))\nmodel.add(Dense(5, activation='softmax'))\nmodel.compile(optimizer='adam', loss='categorical_crossentropy', metrics=['accuracy'])\n#set early stopping monitor so the model stops training when it won't improve anymore\nearly_stopping_monitor = EarlyStopping(patience=3)\nmodel.summary()\n#train model\nmodel.fit(x_train_np, y_train_2, batch_size=64, validation_split=0.2, epochs=10)\n",
      "execution_count": 61,
      "outputs": [
        {
          "output_type": "stream",
          "text": "9\n_________________________________________________________________\nLayer (type)                 Output Shape              Param #   \n=================================================================\ndense_91 (Dense)             (None, 250)               2500      \n_________________________________________________________________\ndense_92 (Dense)             (None, 250)               62750     \n_________________________________________________________________\ndense_93 (Dense)             (None, 250)               62750     \n_________________________________________________________________\ndense_94 (Dense)             (None, 5)                 1255      \n=================================================================\nTotal params: 129,255\nTrainable params: 129,255\nNon-trainable params: 0\n_________________________________________________________________\nTrain on 873 samples, validate on 219 samples\nEpoch 1/10\n873/873 [==============================] - 7s 8ms/step - loss: 15.7858 - acc: 0.0206 - val_loss: 16.1181 - val_acc: 0.0000e+00\nEpoch 2/10\n873/873 [==============================] - 0s 454us/step - loss: 15.7858 - acc: 0.0206 - val_loss: 16.1181 - val_acc: 0.0000e+00\nEpoch 3/10\n873/873 [==============================] - 0s 535us/step - loss: 15.7858 - acc: 0.0206 - val_loss: 16.1181 - val_acc: 0.0000e+00\nEpoch 4/10\n873/873 [==============================] - 0s 565us/step - loss: 15.7858 - acc: 0.0206 - val_loss: 16.1181 - val_acc: 0.0000e+00\nEpoch 5/10\n873/873 [==============================] - 0s 538us/step - loss: 15.7858 - acc: 0.0206 - val_loss: 16.1181 - val_acc: 0.0000e+00\nEpoch 6/10\n873/873 [==============================] - ETA: 0s - loss: 15.8081 - acc: 0.01 - 0s 553us/step - loss: 15.7858 - acc: 0.0206 - val_loss: 16.1181 - val_acc: 0.0000e+00\nEpoch 7/10\n873/873 [==============================] - 0s 529us/step - loss: 15.7858 - acc: 0.0206 - val_loss: 16.1181 - val_acc: 0.0000e+00\nEpoch 8/10\n873/873 [==============================] - 1s 580us/step - loss: 15.7858 - acc: 0.0206 - val_loss: 16.1181 - val_acc: 0.0000e+00\nEpoch 9/10\n873/873 [==============================] - 0s 553us/step - loss: 15.7858 - acc: 0.0206 - val_loss: 16.1181 - val_acc: 0.0000e+00\nEpoch 10/10\n873/873 [==============================] - 0s 551us/step - loss: 15.7858 - acc: 0.0206 - val_loss: 16.1181 - val_acc: 0.0000e+00\n",
          "name": "stdout"
        },
        {
          "output_type": "execute_result",
          "execution_count": 61,
          "data": {
            "text/plain": "<keras.callbacks.History at 0x7f9d32b08160>"
          },
          "metadata": {}
        }
      ]
    },
    {
      "metadata": {
        "trusted": true
      },
      "cell_type": "code",
      "source": "test_y_predictions = model.predict(x_test_pd)\ntest_y_predictions[0:50]",
      "execution_count": 62,
      "outputs": [
        {
          "output_type": "execute_result",
          "execution_count": 62,
          "data": {
            "text/plain": "array([[0.000000e+00, 5.903765e-35, 1.000000e+00, 0.000000e+00,\n        0.000000e+00],\n       [0.000000e+00, 0.000000e+00, 1.000000e+00, 0.000000e+00,\n        0.000000e+00],\n       [0.000000e+00, 0.000000e+00, 1.000000e+00, 0.000000e+00,\n        0.000000e+00],\n       [0.000000e+00, 0.000000e+00, 1.000000e+00, 0.000000e+00,\n        0.000000e+00],\n       [0.000000e+00, 0.000000e+00, 1.000000e+00, 0.000000e+00,\n        0.000000e+00],\n       [0.000000e+00, 0.000000e+00, 1.000000e+00, 0.000000e+00,\n        0.000000e+00],\n       [0.000000e+00, 0.000000e+00, 1.000000e+00, 0.000000e+00,\n        0.000000e+00],\n       [0.000000e+00, 0.000000e+00, 1.000000e+00, 0.000000e+00,\n        0.000000e+00],\n       [0.000000e+00, 0.000000e+00, 1.000000e+00, 0.000000e+00,\n        0.000000e+00],\n       [0.000000e+00, 0.000000e+00, 1.000000e+00, 0.000000e+00,\n        0.000000e+00],\n       [0.000000e+00, 0.000000e+00, 1.000000e+00, 0.000000e+00,\n        0.000000e+00],\n       [0.000000e+00, 0.000000e+00, 1.000000e+00, 0.000000e+00,\n        0.000000e+00],\n       [0.000000e+00, 0.000000e+00, 1.000000e+00, 0.000000e+00,\n        0.000000e+00],\n       [0.000000e+00, 0.000000e+00, 1.000000e+00, 0.000000e+00,\n        0.000000e+00],\n       [0.000000e+00, 0.000000e+00, 1.000000e+00, 0.000000e+00,\n        0.000000e+00],\n       [0.000000e+00, 0.000000e+00, 1.000000e+00, 0.000000e+00,\n        0.000000e+00],\n       [0.000000e+00, 0.000000e+00, 1.000000e+00, 0.000000e+00,\n        0.000000e+00],\n       [0.000000e+00, 0.000000e+00, 1.000000e+00, 0.000000e+00,\n        0.000000e+00],\n       [0.000000e+00, 0.000000e+00, 1.000000e+00, 0.000000e+00,\n        0.000000e+00],\n       [0.000000e+00, 0.000000e+00, 1.000000e+00, 0.000000e+00,\n        0.000000e+00],\n       [0.000000e+00, 0.000000e+00, 1.000000e+00, 0.000000e+00,\n        0.000000e+00],\n       [0.000000e+00, 0.000000e+00, 1.000000e+00, 0.000000e+00,\n        0.000000e+00],\n       [0.000000e+00, 0.000000e+00, 1.000000e+00, 0.000000e+00,\n        0.000000e+00],\n       [0.000000e+00, 0.000000e+00, 1.000000e+00, 0.000000e+00,\n        0.000000e+00],\n       [0.000000e+00, 0.000000e+00, 1.000000e+00, 0.000000e+00,\n        0.000000e+00],\n       [0.000000e+00, 0.000000e+00, 1.000000e+00, 0.000000e+00,\n        0.000000e+00],\n       [0.000000e+00, 0.000000e+00, 1.000000e+00, 0.000000e+00,\n        0.000000e+00],\n       [0.000000e+00, 0.000000e+00, 1.000000e+00, 0.000000e+00,\n        0.000000e+00],\n       [0.000000e+00, 0.000000e+00, 1.000000e+00, 0.000000e+00,\n        0.000000e+00],\n       [0.000000e+00, 0.000000e+00, 1.000000e+00, 0.000000e+00,\n        0.000000e+00],\n       [0.000000e+00, 0.000000e+00, 1.000000e+00, 0.000000e+00,\n        0.000000e+00],\n       [0.000000e+00, 0.000000e+00, 1.000000e+00, 0.000000e+00,\n        0.000000e+00],\n       [0.000000e+00, 0.000000e+00, 1.000000e+00, 0.000000e+00,\n        0.000000e+00],\n       [0.000000e+00, 0.000000e+00, 1.000000e+00, 0.000000e+00,\n        0.000000e+00],\n       [0.000000e+00, 0.000000e+00, 1.000000e+00, 0.000000e+00,\n        0.000000e+00],\n       [0.000000e+00, 0.000000e+00, 1.000000e+00, 0.000000e+00,\n        0.000000e+00],\n       [0.000000e+00, 0.000000e+00, 1.000000e+00, 0.000000e+00,\n        0.000000e+00],\n       [0.000000e+00, 0.000000e+00, 1.000000e+00, 0.000000e+00,\n        0.000000e+00],\n       [0.000000e+00, 0.000000e+00, 1.000000e+00, 0.000000e+00,\n        0.000000e+00],\n       [0.000000e+00, 0.000000e+00, 1.000000e+00, 0.000000e+00,\n        0.000000e+00],\n       [0.000000e+00, 0.000000e+00, 1.000000e+00, 0.000000e+00,\n        0.000000e+00],\n       [0.000000e+00, 0.000000e+00, 1.000000e+00, 0.000000e+00,\n        0.000000e+00],\n       [0.000000e+00, 0.000000e+00, 1.000000e+00, 0.000000e+00,\n        0.000000e+00],\n       [0.000000e+00, 0.000000e+00, 1.000000e+00, 0.000000e+00,\n        0.000000e+00],\n       [0.000000e+00, 0.000000e+00, 1.000000e+00, 0.000000e+00,\n        0.000000e+00],\n       [0.000000e+00, 0.000000e+00, 1.000000e+00, 0.000000e+00,\n        0.000000e+00],\n       [0.000000e+00, 0.000000e+00, 1.000000e+00, 0.000000e+00,\n        0.000000e+00],\n       [0.000000e+00, 0.000000e+00, 1.000000e+00, 0.000000e+00,\n        0.000000e+00],\n       [0.000000e+00, 0.000000e+00, 1.000000e+00, 0.000000e+00,\n        0.000000e+00],\n       [0.000000e+00, 0.000000e+00, 1.000000e+00, 0.000000e+00,\n        0.000000e+00]], dtype=float32)"
          },
          "metadata": {}
        }
      ]
    },
    {
      "metadata": {
        "trusted": true
      },
      "cell_type": "code",
      "source": "",
      "execution_count": null,
      "outputs": []
    }
  ],
  "metadata": {
    "kernelspec": {
      "name": "python36",
      "display_name": "Python 3.6",
      "language": "python"
    },
    "language_info": {
      "mimetype": "text/x-python",
      "nbconvert_exporter": "python",
      "name": "python",
      "pygments_lexer": "ipython3",
      "version": "3.6.6",
      "file_extension": ".py",
      "codemirror_mode": {
        "version": 3,
        "name": "ipython"
      }
    }
  },
  "nbformat": 4,
  "nbformat_minor": 2
}